{
  "nbformat": 4,
  "nbformat_minor": 0,
  "metadata": {
    "colab": {
      "provenance": [],
      "mount_file_id": "1JSs3cn0Q4aPFv0yQXX4tHvxRnkVZxBry",
      "authorship_tag": "ABX9TyN07LzRmSoBobla5pMiBNEa",
      "include_colab_link": true
    },
    "kernelspec": {
      "name": "python3",
      "display_name": "Python 3"
    },
    "language_info": {
      "name": "python"
    }
  },
  "cells": [
    {
      "cell_type": "markdown",
      "metadata": {
        "id": "view-in-github",
        "colab_type": "text"
      },
      "source": [
        "<a href=\"https://colab.research.google.com/github/krisnaarun/ImageClassification/blob/main/40_image_clss.ipynb\" target=\"_parent\"><img src=\"https://colab.research.google.com/assets/colab-badge.svg\" alt=\"Open In Colab\"/></a>"
      ]
    },
    {
      "cell_type": "code",
      "execution_count": 28,
      "metadata": {
        "id": "k310uzQD8et7"
      },
      "outputs": [],
      "source": [
        "import os"
      ]
    },
    {
      "cell_type": "code",
      "source": [
        "os.listdir('/content/drive/MyDrive/Data')"
      ],
      "metadata": {
        "colab": {
          "base_uri": "https://localhost:8080/"
        },
        "id": "R-RLEkIE9OBQ",
        "outputId": "03404553-fdc1-478c-a411-179c88848d40"
      },
      "execution_count": 29,
      "outputs": [
        {
          "output_type": "execute_result",
          "data": {
            "text/plain": [
              "['Dog', 'Cat']"
            ]
          },
          "metadata": {},
          "execution_count": 29
        }
      ]
    },
    {
      "cell_type": "code",
      "source": [
        "os.listdir('/content/drive/MyDrive/Data/Dog')"
      ],
      "metadata": {
        "colab": {
          "base_uri": "https://localhost:8080/"
        },
        "id": "bXM8jjTJ9bc9",
        "outputId": "a26e0465-09ad-4e71-f527-2cad1ab04ccf"
      },
      "execution_count": 30,
      "outputs": [
        {
          "output_type": "execute_result",
          "data": {
            "text/plain": [
              "['dog.15.jpg',\n",
              " 'dog.14.jpg',\n",
              " 'dog.12.jpg',\n",
              " 'dog.13.jpg',\n",
              " 'dog.19.jpg',\n",
              " 'dog.16.jpg',\n",
              " 'dog.24.jpg',\n",
              " 'dog.21.jpg',\n",
              " 'dog.18.jpg',\n",
              " 'dog.20.jpg',\n",
              " 'dog.23.jpg',\n",
              " 'dog.17.jpg',\n",
              " 'dog.22.jpg',\n",
              " 'dog.33.jpg',\n",
              " 'dog.30.jpg',\n",
              " 'dog.28.jpg',\n",
              " 'dog.31.jpg',\n",
              " 'dog.32.jpg',\n",
              " 'dog.26.jpg',\n",
              " 'dog.27.jpg',\n",
              " 'dog.25.jpg',\n",
              " 'dog.55.jpg',\n",
              " 'dog.47.jpg',\n",
              " 'dog.51.jpg',\n",
              " 'dog.38.jpg',\n",
              " 'dog.46.jpg',\n",
              " 'dog.44.jpg',\n",
              " 'dog.39.jpg',\n",
              " 'dog.40.jpg',\n",
              " 'dog.56.jpg',\n",
              " 'dog.48.jpg',\n",
              " 'dog.42.jpg',\n",
              " 'dog.60.jpg',\n",
              " 'dog.36.jpg',\n",
              " 'dog.34.jpg',\n",
              " 'dog.45.jpg',\n",
              " 'dog.58.jpg',\n",
              " 'dog.35.jpg',\n",
              " 'dog.57.jpg',\n",
              " 'dog.77.jpg',\n",
              " 'dog.64.jpg',\n",
              " 'dog.76.jpg',\n",
              " 'dog.67.jpg',\n",
              " 'dog.63.jpg',\n",
              " 'dog.78.jpg',\n",
              " 'dog.80.jpg',\n",
              " 'dog.65.jpg',\n",
              " 'dog.61.jpg',\n",
              " 'dog.68.jpg',\n",
              " 'dog.70.jpg',\n",
              " 'dog.71.jpg',\n",
              " 'dog.82.jpg',\n",
              " 'dog.81.jpg',\n",
              " 'dog.69.jpg',\n",
              " 'dog.66.jpg',\n",
              " 'dog.79.jpg',\n",
              " 'download1.jpeg',\n",
              " 'download2.jpeg',\n",
              " 'download3.jpeg',\n",
              " 'download4.jpeg',\n",
              " 'download5.jpeg',\n",
              " 'download6.jpeg',\n",
              " 'images.jpeg',\n",
              " 'images1.jpeg',\n",
              " 'download7.jpeg',\n",
              " 'download8.jpeg']"
            ]
          },
          "metadata": {},
          "execution_count": 30
        }
      ]
    },
    {
      "cell_type": "code",
      "source": [
        "os.listdir('/content/drive/MyDrive/Data/Cat')"
      ],
      "metadata": {
        "colab": {
          "base_uri": "https://localhost:8080/"
        },
        "id": "Kuxm0GLZ9oZ0",
        "outputId": "35278176-b8df-4bac-8340-1498300bb7fb"
      },
      "execution_count": 31,
      "outputs": [
        {
          "output_type": "execute_result",
          "data": {
            "text/plain": [
              "['cat.1 - Copy.jpg',\n",
              " 'cat.10.jpg',\n",
              " 'cat.11.jpg',\n",
              " 'cat.2 - Copy.jpg',\n",
              " 'cat.17.jpg',\n",
              " 'cat.12.jpg',\n",
              " 'cat.15.jpg',\n",
              " 'cat.14.jpg',\n",
              " 'cat.21.jpg',\n",
              " 'cat.20.jpg',\n",
              " 'cat.13.jpg',\n",
              " 'cat.16.jpg',\n",
              " 'cat.18.jpg',\n",
              " 'cat.27.jpg',\n",
              " 'cat.24.jpg',\n",
              " 'cat.3 - Copy.jpg',\n",
              " 'cat.28.jpg',\n",
              " 'cat.29.jpg',\n",
              " 'cat.31.jpg',\n",
              " 'cat.30.jpg',\n",
              " 'cat.33.jpg',\n",
              " 'cat.36.jpg',\n",
              " 'cat.38.jpg',\n",
              " 'cat.34.jpg',\n",
              " 'cat.39.jpg',\n",
              " 'cat.51.jpg',\n",
              " 'cat.44.jpg',\n",
              " 'cat.46.jpg',\n",
              " 'cat.50.jpg',\n",
              " 'cat.4 - Copy.jpg',\n",
              " 'cat.47.jpg',\n",
              " 'cat.37.jpg',\n",
              " 'cat.32.jpg',\n",
              " 'cat.54.jpg',\n",
              " 'cat.43.jpg',\n",
              " 'cat.42.jpg',\n",
              " 'cat.53.jpg',\n",
              " 'cat.40.jpg',\n",
              " 'cat.48.jpg',\n",
              " 'cat.5.jpg',\n",
              " 'cat.52.jpg',\n",
              " 'cat.35.jpg',\n",
              " 'cat.49.jpg',\n",
              " 'cat.41.jpg',\n",
              " 'cat.5 - Copy.jpg',\n",
              " 'cat.9.jpg',\n",
              " 'cat.8.jpg',\n",
              " 'cat.7.jpg',\n",
              " 'download.jpeg',\n",
              " 'download1.jpeg',\n",
              " 'download2.jpeg',\n",
              " 'download3.jpeg',\n",
              " 'download4.jpeg',\n",
              " 'download5.jpeg',\n",
              " 'download6.jpeg',\n",
              " 'download7.jpeg',\n",
              " 'download8.jpeg',\n",
              " 'images9.jpeg',\n",
              " 'images.jpeg',\n",
              " 'downloadcat.jpeg']"
            ]
          },
          "metadata": {},
          "execution_count": 31
        }
      ]
    },
    {
      "cell_type": "code",
      "source": [
        "len(os.listdir('/content/drive/MyDrive/Data/Dog'))"
      ],
      "metadata": {
        "colab": {
          "base_uri": "https://localhost:8080/"
        },
        "id": "4845KWAD9yCX",
        "outputId": "909c5feb-910c-4349-d1e6-6ce6589930b7"
      },
      "execution_count": 32,
      "outputs": [
        {
          "output_type": "execute_result",
          "data": {
            "text/plain": [
              "66"
            ]
          },
          "metadata": {},
          "execution_count": 32
        }
      ]
    },
    {
      "cell_type": "code",
      "source": [
        "len(os.listdir('/content/drive/MyDrive/Data/Cat'))"
      ],
      "metadata": {
        "colab": {
          "base_uri": "https://localhost:8080/"
        },
        "id": "ZiK0ZFXz-eg9",
        "outputId": "adb2ea85-a856-4f0e-96ac-73da797f8464"
      },
      "execution_count": 33,
      "outputs": [
        {
          "output_type": "execute_result",
          "data": {
            "text/plain": [
              "60"
            ]
          },
          "metadata": {},
          "execution_count": 33
        }
      ]
    },
    {
      "cell_type": "code",
      "source": [
        "datadir='/content/drive/MyDrive/Data'\n",
        "dogpath=os.path.join(datadir,'Dog')\n",
        "dogpath"
      ],
      "metadata": {
        "colab": {
          "base_uri": "https://localhost:8080/",
          "height": 35
        },
        "id": "IT1aqeFv-y_N",
        "outputId": "08d2c60e-1cc4-44ef-cb13-002f93909ef9"
      },
      "execution_count": 34,
      "outputs": [
        {
          "output_type": "execute_result",
          "data": {
            "text/plain": [
              "'/content/drive/MyDrive/Data/Dog'"
            ],
            "application/vnd.google.colaboratory.intrinsic+json": {
              "type": "string"
            }
          },
          "metadata": {},
          "execution_count": 34
        }
      ]
    },
    {
      "cell_type": "code",
      "source": [
        "os.listdir(dogpath)"
      ],
      "metadata": {
        "colab": {
          "base_uri": "https://localhost:8080/"
        },
        "id": "EYi0cT_F_HK7",
        "outputId": "684317d1-92dd-4e92-fff7-ddb9213ad599"
      },
      "execution_count": 35,
      "outputs": [
        {
          "output_type": "execute_result",
          "data": {
            "text/plain": [
              "['dog.15.jpg',\n",
              " 'dog.14.jpg',\n",
              " 'dog.12.jpg',\n",
              " 'dog.13.jpg',\n",
              " 'dog.19.jpg',\n",
              " 'dog.16.jpg',\n",
              " 'dog.24.jpg',\n",
              " 'dog.21.jpg',\n",
              " 'dog.18.jpg',\n",
              " 'dog.20.jpg',\n",
              " 'dog.23.jpg',\n",
              " 'dog.17.jpg',\n",
              " 'dog.22.jpg',\n",
              " 'dog.33.jpg',\n",
              " 'dog.30.jpg',\n",
              " 'dog.28.jpg',\n",
              " 'dog.31.jpg',\n",
              " 'dog.32.jpg',\n",
              " 'dog.26.jpg',\n",
              " 'dog.27.jpg',\n",
              " 'dog.25.jpg',\n",
              " 'dog.55.jpg',\n",
              " 'dog.47.jpg',\n",
              " 'dog.51.jpg',\n",
              " 'dog.38.jpg',\n",
              " 'dog.46.jpg',\n",
              " 'dog.44.jpg',\n",
              " 'dog.39.jpg',\n",
              " 'dog.40.jpg',\n",
              " 'dog.56.jpg',\n",
              " 'dog.48.jpg',\n",
              " 'dog.42.jpg',\n",
              " 'dog.60.jpg',\n",
              " 'dog.36.jpg',\n",
              " 'dog.34.jpg',\n",
              " 'dog.45.jpg',\n",
              " 'dog.58.jpg',\n",
              " 'dog.35.jpg',\n",
              " 'dog.57.jpg',\n",
              " 'dog.77.jpg',\n",
              " 'dog.64.jpg',\n",
              " 'dog.76.jpg',\n",
              " 'dog.67.jpg',\n",
              " 'dog.63.jpg',\n",
              " 'dog.78.jpg',\n",
              " 'dog.80.jpg',\n",
              " 'dog.65.jpg',\n",
              " 'dog.61.jpg',\n",
              " 'dog.68.jpg',\n",
              " 'dog.70.jpg',\n",
              " 'dog.71.jpg',\n",
              " 'dog.82.jpg',\n",
              " 'dog.81.jpg',\n",
              " 'dog.69.jpg',\n",
              " 'dog.66.jpg',\n",
              " 'dog.79.jpg',\n",
              " 'download1.jpeg',\n",
              " 'download2.jpeg',\n",
              " 'download3.jpeg',\n",
              " 'download4.jpeg',\n",
              " 'download5.jpeg',\n",
              " 'download6.jpeg',\n",
              " 'images.jpeg',\n",
              " 'images1.jpeg',\n",
              " 'download7.jpeg',\n",
              " 'download8.jpeg']"
            ]
          },
          "metadata": {},
          "execution_count": 35
        }
      ]
    },
    {
      "cell_type": "code",
      "source": [
        "catpath=os.path.join(datadir,'Cat')\n",
        "catpath"
      ],
      "metadata": {
        "colab": {
          "base_uri": "https://localhost:8080/",
          "height": 35
        },
        "id": "pVMPlE9q_19C",
        "outputId": "ce4d086e-6d28-4e7f-91a2-bd96011451d1"
      },
      "execution_count": 36,
      "outputs": [
        {
          "output_type": "execute_result",
          "data": {
            "text/plain": [
              "'/content/drive/MyDrive/Data/Cat'"
            ],
            "application/vnd.google.colaboratory.intrinsic+json": {
              "type": "string"
            }
          },
          "metadata": {},
          "execution_count": 36
        }
      ]
    },
    {
      "cell_type": "code",
      "source": [
        "datadir='/content/drive/MyDrive/Data'"
      ],
      "metadata": {
        "id": "SkSdGTrlADTw"
      },
      "execution_count": 37,
      "outputs": []
    },
    {
      "cell_type": "code",
      "source": [
        "for i in os.listdir(datadir):\n",
        "   spath=os.path.join(datadir,i)\n",
        "   print(os.listdir(spath))"
      ],
      "metadata": {
        "colab": {
          "base_uri": "https://localhost:8080/"
        },
        "id": "vrYw7VVgALxm",
        "outputId": "dd5b1cf0-bcba-48e5-91fa-07633a7cc96e"
      },
      "execution_count": 38,
      "outputs": [
        {
          "output_type": "stream",
          "name": "stdout",
          "text": [
            "['dog.15.jpg', 'dog.14.jpg', 'dog.12.jpg', 'dog.13.jpg', 'dog.19.jpg', 'dog.16.jpg', 'dog.24.jpg', 'dog.21.jpg', 'dog.18.jpg', 'dog.20.jpg', 'dog.23.jpg', 'dog.17.jpg', 'dog.22.jpg', 'dog.33.jpg', 'dog.30.jpg', 'dog.28.jpg', 'dog.31.jpg', 'dog.32.jpg', 'dog.26.jpg', 'dog.27.jpg', 'dog.25.jpg', 'dog.55.jpg', 'dog.47.jpg', 'dog.51.jpg', 'dog.38.jpg', 'dog.46.jpg', 'dog.44.jpg', 'dog.39.jpg', 'dog.40.jpg', 'dog.56.jpg', 'dog.48.jpg', 'dog.42.jpg', 'dog.60.jpg', 'dog.36.jpg', 'dog.34.jpg', 'dog.45.jpg', 'dog.58.jpg', 'dog.35.jpg', 'dog.57.jpg', 'dog.77.jpg', 'dog.64.jpg', 'dog.76.jpg', 'dog.67.jpg', 'dog.63.jpg', 'dog.78.jpg', 'dog.80.jpg', 'dog.65.jpg', 'dog.61.jpg', 'dog.68.jpg', 'dog.70.jpg', 'dog.71.jpg', 'dog.82.jpg', 'dog.81.jpg', 'dog.69.jpg', 'dog.66.jpg', 'dog.79.jpg', 'download1.jpeg', 'download2.jpeg', 'download3.jpeg', 'download4.jpeg', 'download5.jpeg', 'download6.jpeg', 'images.jpeg', 'images1.jpeg', 'download7.jpeg', 'download8.jpeg']\n",
            "['cat.1 - Copy.jpg', 'cat.10.jpg', 'cat.11.jpg', 'cat.2 - Copy.jpg', 'cat.17.jpg', 'cat.12.jpg', 'cat.15.jpg', 'cat.14.jpg', 'cat.21.jpg', 'cat.20.jpg', 'cat.13.jpg', 'cat.16.jpg', 'cat.18.jpg', 'cat.27.jpg', 'cat.24.jpg', 'cat.3 - Copy.jpg', 'cat.28.jpg', 'cat.29.jpg', 'cat.31.jpg', 'cat.30.jpg', 'cat.33.jpg', 'cat.36.jpg', 'cat.38.jpg', 'cat.34.jpg', 'cat.39.jpg', 'cat.51.jpg', 'cat.44.jpg', 'cat.46.jpg', 'cat.50.jpg', 'cat.4 - Copy.jpg', 'cat.47.jpg', 'cat.37.jpg', 'cat.32.jpg', 'cat.54.jpg', 'cat.43.jpg', 'cat.42.jpg', 'cat.53.jpg', 'cat.40.jpg', 'cat.48.jpg', 'cat.5.jpg', 'cat.52.jpg', 'cat.35.jpg', 'cat.49.jpg', 'cat.41.jpg', 'cat.5 - Copy.jpg', 'cat.9.jpg', 'cat.8.jpg', 'cat.7.jpg', 'download.jpeg', 'download1.jpeg', 'download2.jpeg', 'download3.jpeg', 'download4.jpeg', 'download5.jpeg', 'download6.jpeg', 'download7.jpeg', 'download8.jpeg', 'images9.jpeg', 'images.jpeg', 'downloadcat.jpeg']\n"
          ]
        }
      ]
    },
    {
      "cell_type": "code",
      "source": [
        "for i in os.listdir(datadir):\n",
        "   spath=os.path.join(datadir,i)\n",
        "   for j in os.listdir(spath):\n",
        "      npath=os.path.join(spath,j)\n",
        "      print(npath)\n"
      ],
      "metadata": {
        "colab": {
          "base_uri": "https://localhost:8080/"
        },
        "id": "lRmhWbtWBaJs",
        "outputId": "38fec75d-9aee-420c-9615-44bca7741287"
      },
      "execution_count": 39,
      "outputs": [
        {
          "output_type": "stream",
          "name": "stdout",
          "text": [
            "/content/drive/MyDrive/Data/Dog/dog.15.jpg\n",
            "/content/drive/MyDrive/Data/Dog/dog.14.jpg\n",
            "/content/drive/MyDrive/Data/Dog/dog.12.jpg\n",
            "/content/drive/MyDrive/Data/Dog/dog.13.jpg\n",
            "/content/drive/MyDrive/Data/Dog/dog.19.jpg\n",
            "/content/drive/MyDrive/Data/Dog/dog.16.jpg\n",
            "/content/drive/MyDrive/Data/Dog/dog.24.jpg\n",
            "/content/drive/MyDrive/Data/Dog/dog.21.jpg\n",
            "/content/drive/MyDrive/Data/Dog/dog.18.jpg\n",
            "/content/drive/MyDrive/Data/Dog/dog.20.jpg\n",
            "/content/drive/MyDrive/Data/Dog/dog.23.jpg\n",
            "/content/drive/MyDrive/Data/Dog/dog.17.jpg\n",
            "/content/drive/MyDrive/Data/Dog/dog.22.jpg\n",
            "/content/drive/MyDrive/Data/Dog/dog.33.jpg\n",
            "/content/drive/MyDrive/Data/Dog/dog.30.jpg\n",
            "/content/drive/MyDrive/Data/Dog/dog.28.jpg\n",
            "/content/drive/MyDrive/Data/Dog/dog.31.jpg\n",
            "/content/drive/MyDrive/Data/Dog/dog.32.jpg\n",
            "/content/drive/MyDrive/Data/Dog/dog.26.jpg\n",
            "/content/drive/MyDrive/Data/Dog/dog.27.jpg\n",
            "/content/drive/MyDrive/Data/Dog/dog.25.jpg\n",
            "/content/drive/MyDrive/Data/Dog/dog.55.jpg\n",
            "/content/drive/MyDrive/Data/Dog/dog.47.jpg\n",
            "/content/drive/MyDrive/Data/Dog/dog.51.jpg\n",
            "/content/drive/MyDrive/Data/Dog/dog.38.jpg\n",
            "/content/drive/MyDrive/Data/Dog/dog.46.jpg\n",
            "/content/drive/MyDrive/Data/Dog/dog.44.jpg\n",
            "/content/drive/MyDrive/Data/Dog/dog.39.jpg\n",
            "/content/drive/MyDrive/Data/Dog/dog.40.jpg\n",
            "/content/drive/MyDrive/Data/Dog/dog.56.jpg\n",
            "/content/drive/MyDrive/Data/Dog/dog.48.jpg\n",
            "/content/drive/MyDrive/Data/Dog/dog.42.jpg\n",
            "/content/drive/MyDrive/Data/Dog/dog.60.jpg\n",
            "/content/drive/MyDrive/Data/Dog/dog.36.jpg\n",
            "/content/drive/MyDrive/Data/Dog/dog.34.jpg\n",
            "/content/drive/MyDrive/Data/Dog/dog.45.jpg\n",
            "/content/drive/MyDrive/Data/Dog/dog.58.jpg\n",
            "/content/drive/MyDrive/Data/Dog/dog.35.jpg\n",
            "/content/drive/MyDrive/Data/Dog/dog.57.jpg\n",
            "/content/drive/MyDrive/Data/Dog/dog.77.jpg\n",
            "/content/drive/MyDrive/Data/Dog/dog.64.jpg\n",
            "/content/drive/MyDrive/Data/Dog/dog.76.jpg\n",
            "/content/drive/MyDrive/Data/Dog/dog.67.jpg\n",
            "/content/drive/MyDrive/Data/Dog/dog.63.jpg\n",
            "/content/drive/MyDrive/Data/Dog/dog.78.jpg\n",
            "/content/drive/MyDrive/Data/Dog/dog.80.jpg\n",
            "/content/drive/MyDrive/Data/Dog/dog.65.jpg\n",
            "/content/drive/MyDrive/Data/Dog/dog.61.jpg\n",
            "/content/drive/MyDrive/Data/Dog/dog.68.jpg\n",
            "/content/drive/MyDrive/Data/Dog/dog.70.jpg\n",
            "/content/drive/MyDrive/Data/Dog/dog.71.jpg\n",
            "/content/drive/MyDrive/Data/Dog/dog.82.jpg\n",
            "/content/drive/MyDrive/Data/Dog/dog.81.jpg\n",
            "/content/drive/MyDrive/Data/Dog/dog.69.jpg\n",
            "/content/drive/MyDrive/Data/Dog/dog.66.jpg\n",
            "/content/drive/MyDrive/Data/Dog/dog.79.jpg\n",
            "/content/drive/MyDrive/Data/Dog/download1.jpeg\n",
            "/content/drive/MyDrive/Data/Dog/download2.jpeg\n",
            "/content/drive/MyDrive/Data/Dog/download3.jpeg\n",
            "/content/drive/MyDrive/Data/Dog/download4.jpeg\n",
            "/content/drive/MyDrive/Data/Dog/download5.jpeg\n",
            "/content/drive/MyDrive/Data/Dog/download6.jpeg\n",
            "/content/drive/MyDrive/Data/Dog/images.jpeg\n",
            "/content/drive/MyDrive/Data/Dog/images1.jpeg\n",
            "/content/drive/MyDrive/Data/Dog/download7.jpeg\n",
            "/content/drive/MyDrive/Data/Dog/download8.jpeg\n",
            "/content/drive/MyDrive/Data/Cat/cat.1 - Copy.jpg\n",
            "/content/drive/MyDrive/Data/Cat/cat.10.jpg\n",
            "/content/drive/MyDrive/Data/Cat/cat.11.jpg\n",
            "/content/drive/MyDrive/Data/Cat/cat.2 - Copy.jpg\n",
            "/content/drive/MyDrive/Data/Cat/cat.17.jpg\n",
            "/content/drive/MyDrive/Data/Cat/cat.12.jpg\n",
            "/content/drive/MyDrive/Data/Cat/cat.15.jpg\n",
            "/content/drive/MyDrive/Data/Cat/cat.14.jpg\n",
            "/content/drive/MyDrive/Data/Cat/cat.21.jpg\n",
            "/content/drive/MyDrive/Data/Cat/cat.20.jpg\n",
            "/content/drive/MyDrive/Data/Cat/cat.13.jpg\n",
            "/content/drive/MyDrive/Data/Cat/cat.16.jpg\n",
            "/content/drive/MyDrive/Data/Cat/cat.18.jpg\n",
            "/content/drive/MyDrive/Data/Cat/cat.27.jpg\n",
            "/content/drive/MyDrive/Data/Cat/cat.24.jpg\n",
            "/content/drive/MyDrive/Data/Cat/cat.3 - Copy.jpg\n",
            "/content/drive/MyDrive/Data/Cat/cat.28.jpg\n",
            "/content/drive/MyDrive/Data/Cat/cat.29.jpg\n",
            "/content/drive/MyDrive/Data/Cat/cat.31.jpg\n",
            "/content/drive/MyDrive/Data/Cat/cat.30.jpg\n",
            "/content/drive/MyDrive/Data/Cat/cat.33.jpg\n",
            "/content/drive/MyDrive/Data/Cat/cat.36.jpg\n",
            "/content/drive/MyDrive/Data/Cat/cat.38.jpg\n",
            "/content/drive/MyDrive/Data/Cat/cat.34.jpg\n",
            "/content/drive/MyDrive/Data/Cat/cat.39.jpg\n",
            "/content/drive/MyDrive/Data/Cat/cat.51.jpg\n",
            "/content/drive/MyDrive/Data/Cat/cat.44.jpg\n",
            "/content/drive/MyDrive/Data/Cat/cat.46.jpg\n",
            "/content/drive/MyDrive/Data/Cat/cat.50.jpg\n",
            "/content/drive/MyDrive/Data/Cat/cat.4 - Copy.jpg\n",
            "/content/drive/MyDrive/Data/Cat/cat.47.jpg\n",
            "/content/drive/MyDrive/Data/Cat/cat.37.jpg\n",
            "/content/drive/MyDrive/Data/Cat/cat.32.jpg\n",
            "/content/drive/MyDrive/Data/Cat/cat.54.jpg\n",
            "/content/drive/MyDrive/Data/Cat/cat.43.jpg\n",
            "/content/drive/MyDrive/Data/Cat/cat.42.jpg\n",
            "/content/drive/MyDrive/Data/Cat/cat.53.jpg\n",
            "/content/drive/MyDrive/Data/Cat/cat.40.jpg\n",
            "/content/drive/MyDrive/Data/Cat/cat.48.jpg\n",
            "/content/drive/MyDrive/Data/Cat/cat.5.jpg\n",
            "/content/drive/MyDrive/Data/Cat/cat.52.jpg\n",
            "/content/drive/MyDrive/Data/Cat/cat.35.jpg\n",
            "/content/drive/MyDrive/Data/Cat/cat.49.jpg\n",
            "/content/drive/MyDrive/Data/Cat/cat.41.jpg\n",
            "/content/drive/MyDrive/Data/Cat/cat.5 - Copy.jpg\n",
            "/content/drive/MyDrive/Data/Cat/cat.9.jpg\n",
            "/content/drive/MyDrive/Data/Cat/cat.8.jpg\n",
            "/content/drive/MyDrive/Data/Cat/cat.7.jpg\n",
            "/content/drive/MyDrive/Data/Cat/download.jpeg\n",
            "/content/drive/MyDrive/Data/Cat/download1.jpeg\n",
            "/content/drive/MyDrive/Data/Cat/download2.jpeg\n",
            "/content/drive/MyDrive/Data/Cat/download3.jpeg\n",
            "/content/drive/MyDrive/Data/Cat/download4.jpeg\n",
            "/content/drive/MyDrive/Data/Cat/download5.jpeg\n",
            "/content/drive/MyDrive/Data/Cat/download6.jpeg\n",
            "/content/drive/MyDrive/Data/Cat/download7.jpeg\n",
            "/content/drive/MyDrive/Data/Cat/download8.jpeg\n",
            "/content/drive/MyDrive/Data/Cat/images9.jpeg\n",
            "/content/drive/MyDrive/Data/Cat/images.jpeg\n",
            "/content/drive/MyDrive/Data/Cat/downloadcat.jpeg\n"
          ]
        }
      ]
    },
    {
      "cell_type": "code",
      "source": [
        "import pandas as pd\n",
        "import numpy as np\n",
        "import matplotlib.pyplot as plt\n",
        "from skimage.transform import resize\n",
        "from skimage.io import imread\n",
        "from sklearn.svm import SVC\n",
        "from sklearn.model_selection import train_test_split\n",
        "from sklearn.metrics import classification_report,ConfusionMatrixDisplay"
      ],
      "metadata": {
        "id": "CChUjWFE8Exb"
      },
      "execution_count": 40,
      "outputs": []
    },
    {
      "cell_type": "code",
      "source": [],
      "metadata": {
        "id": "3YCK5o-o6_6P"
      },
      "execution_count": 40,
      "outputs": []
    },
    {
      "cell_type": "code",
      "source": [
        "data_array=[]\n",
        "target_array=[]\n",
        "Categories=['Cat','Dog']\n",
        "datadir='/content/drive/MyDrive/Data'\n",
        "for i in Categories:\n",
        "  sub_path=os.path.join(datadir,i)\n",
        "  images=os.listdir(sub_path)\n",
        "  for j in images:\n",
        "    img_path=os.path.join(sub_path,j)\n",
        "    img_array=imread(img_path)\n",
        "    img_resized=resize(img_array,(150,150,3))\n",
        "    data_array.append(img_resized.flatten())\n",
        "    target_array.append(Categories.index(i))\n",
        "  print('loaded category:',i)"
      ],
      "metadata": {
        "colab": {
          "base_uri": "https://localhost:8080/"
        },
        "id": "Zj97ch7-9-a5",
        "outputId": "dc6a80fe-ff27-494a-cb28-73b69f95f0bb"
      },
      "execution_count": 41,
      "outputs": [
        {
          "output_type": "stream",
          "name": "stdout",
          "text": [
            "loaded category: Cat\n",
            "loaded category: Dog\n"
          ]
        }
      ]
    },
    {
      "cell_type": "code",
      "source": [
        "data=np.array(data_array)\n",
        "data.shape            #150*150*3"
      ],
      "metadata": {
        "colab": {
          "base_uri": "https://localhost:8080/"
        },
        "id": "It2EV-vrDpvb",
        "outputId": "bc1f0e98-3528-474a-fe8f-95e69d3654e3"
      },
      "execution_count": 42,
      "outputs": [
        {
          "output_type": "execute_result",
          "data": {
            "text/plain": [
              "(126, 67500)"
            ]
          },
          "metadata": {},
          "execution_count": 42
        }
      ]
    },
    {
      "cell_type": "code",
      "source": [
        "target=np.array(target_array)\n",
        "target.shape"
      ],
      "metadata": {
        "colab": {
          "base_uri": "https://localhost:8080/"
        },
        "id": "3SPVEkwzGkJ8",
        "outputId": "198883e5-e53d-44af-e48d-8af0a69283cb"
      },
      "execution_count": 43,
      "outputs": [
        {
          "output_type": "execute_result",
          "data": {
            "text/plain": [
              "(126,)"
            ]
          },
          "metadata": {},
          "execution_count": 43
        }
      ]
    },
    {
      "cell_type": "code",
      "source": [
        "df=pd.DataFrame(data)\n",
        "df"
      ],
      "metadata": {
        "colab": {
          "base_uri": "https://localhost:8080/",
          "height": 488
        },
        "id": "KVtg0zfkFaHx",
        "outputId": "08d37463-12c0-40ac-f2f7-7828c2853439"
      },
      "execution_count": 44,
      "outputs": [
        {
          "output_type": "execute_result",
          "data": {
            "text/plain": [
              "        0         1         2         3         4         5         6      \\\n",
              "0    0.154919  0.174317  0.159262  0.158661  0.174557  0.174348  0.160470   \n",
              "1    0.112229  0.128222  0.163382  0.068747  0.084740  0.125080  0.088116   \n",
              "2    0.890555  0.917245  0.909245  0.909860  0.948941  0.944676  0.925683   \n",
              "3    0.258697  0.202976  0.211065  0.224392  0.171795  0.183491  0.200546   \n",
              "4    0.102460  0.102460  0.102460  0.109354  0.109354  0.109354  0.106019   \n",
              "..        ...       ...       ...       ...       ...       ...       ...   \n",
              "121  0.540430  0.592002  0.587192  0.536907  0.582837  0.564881  0.473051   \n",
              "122  0.525404  0.515404  0.385404  0.541982  0.531982  0.401980  0.549706   \n",
              "123  0.180388  0.305878  0.211760  0.179468  0.304958  0.210840  0.176474   \n",
              "124  0.265494  0.194915  0.165522  0.289091  0.236930  0.201553  0.297122   \n",
              "125  1.000000  1.000000  1.000000  1.000000  1.000000  1.000000  1.000000   \n",
              "\n",
              "        7         8         9      ...     67490     67491     67492  \\\n",
              "0    0.174195  0.189462  0.162110  ...  0.224704  0.197318  0.138913   \n",
              "1    0.103733  0.150911  0.149698  ...  0.008552  0.756716  0.752803   \n",
              "2    0.980147  0.980362  0.749868  ...  0.947478  0.774726  0.836644   \n",
              "3    0.154476  0.171791  0.216943  ...  0.231418  0.141433  0.087680   \n",
              "4    0.106019  0.106019  0.113694  ...  0.211287  0.318348  0.331493   \n",
              "..        ...       ...       ...  ...       ...       ...       ...   \n",
              "121  0.511448  0.474642  0.414647  ...  0.187970  0.070573  0.083511   \n",
              "122  0.539706  0.408779  0.541766  ...  0.327961  0.547997  0.553535   \n",
              "123  0.301964  0.207846  0.174089  ...  0.170797  0.407024  0.567886   \n",
              "124  0.270173  0.230698  0.270863  ...  0.152773  0.311343  0.311343   \n",
              "125  1.000000  1.000000  1.000000  ...  1.000000  1.000000  1.000000   \n",
              "\n",
              "        67493     67494     67495     67496     67497     67498     67499  \n",
              "0    0.111461  0.190055  0.138656  0.107701  0.180396  0.134622  0.101754  \n",
              "1    0.014710  0.728919  0.718809  0.021388  0.675097  0.656312  0.013387  \n",
              "2    0.941021  0.761761  0.824506  0.923488  0.784133  0.846879  0.942937  \n",
              "3    0.141854  0.313445  0.264257  0.285725  0.778475  0.734729  0.725754  \n",
              "4    0.318138  0.265920  0.293626  0.276704  0.363970  0.375376  0.367386  \n",
              "..        ...       ...       ...       ...       ...       ...       ...  \n",
              "121  0.048696  0.227812  0.231461  0.175383  0.065175  0.065175  0.027635  \n",
              "122  0.311182  0.547216  0.562070  0.275076  0.673287  0.665615  0.441600  \n",
              "123  0.167792  0.393432  0.571711  0.150718  0.392157  0.572549  0.149020  \n",
              "124  0.115264  0.383767  0.383767  0.187688  0.405936  0.405936  0.209857  \n",
              "125  1.000000  1.000000  1.000000  1.000000  1.000000  1.000000  1.000000  \n",
              "\n",
              "[126 rows x 67500 columns]"
            ],
            "text/html": [
              "\n",
              "  <div id=\"df-fc6b38a7-dee3-4dc8-95f2-b8fed2f2766a\">\n",
              "    <div class=\"colab-df-container\">\n",
              "      <div>\n",
              "<style scoped>\n",
              "    .dataframe tbody tr th:only-of-type {\n",
              "        vertical-align: middle;\n",
              "    }\n",
              "\n",
              "    .dataframe tbody tr th {\n",
              "        vertical-align: top;\n",
              "    }\n",
              "\n",
              "    .dataframe thead th {\n",
              "        text-align: right;\n",
              "    }\n",
              "</style>\n",
              "<table border=\"1\" class=\"dataframe\">\n",
              "  <thead>\n",
              "    <tr style=\"text-align: right;\">\n",
              "      <th></th>\n",
              "      <th>0</th>\n",
              "      <th>1</th>\n",
              "      <th>2</th>\n",
              "      <th>3</th>\n",
              "      <th>4</th>\n",
              "      <th>5</th>\n",
              "      <th>6</th>\n",
              "      <th>7</th>\n",
              "      <th>8</th>\n",
              "      <th>9</th>\n",
              "      <th>...</th>\n",
              "      <th>67490</th>\n",
              "      <th>67491</th>\n",
              "      <th>67492</th>\n",
              "      <th>67493</th>\n",
              "      <th>67494</th>\n",
              "      <th>67495</th>\n",
              "      <th>67496</th>\n",
              "      <th>67497</th>\n",
              "      <th>67498</th>\n",
              "      <th>67499</th>\n",
              "    </tr>\n",
              "  </thead>\n",
              "  <tbody>\n",
              "    <tr>\n",
              "      <th>0</th>\n",
              "      <td>0.154919</td>\n",
              "      <td>0.174317</td>\n",
              "      <td>0.159262</td>\n",
              "      <td>0.158661</td>\n",
              "      <td>0.174557</td>\n",
              "      <td>0.174348</td>\n",
              "      <td>0.160470</td>\n",
              "      <td>0.174195</td>\n",
              "      <td>0.189462</td>\n",
              "      <td>0.162110</td>\n",
              "      <td>...</td>\n",
              "      <td>0.224704</td>\n",
              "      <td>0.197318</td>\n",
              "      <td>0.138913</td>\n",
              "      <td>0.111461</td>\n",
              "      <td>0.190055</td>\n",
              "      <td>0.138656</td>\n",
              "      <td>0.107701</td>\n",
              "      <td>0.180396</td>\n",
              "      <td>0.134622</td>\n",
              "      <td>0.101754</td>\n",
              "    </tr>\n",
              "    <tr>\n",
              "      <th>1</th>\n",
              "      <td>0.112229</td>\n",
              "      <td>0.128222</td>\n",
              "      <td>0.163382</td>\n",
              "      <td>0.068747</td>\n",
              "      <td>0.084740</td>\n",
              "      <td>0.125080</td>\n",
              "      <td>0.088116</td>\n",
              "      <td>0.103733</td>\n",
              "      <td>0.150911</td>\n",
              "      <td>0.149698</td>\n",
              "      <td>...</td>\n",
              "      <td>0.008552</td>\n",
              "      <td>0.756716</td>\n",
              "      <td>0.752803</td>\n",
              "      <td>0.014710</td>\n",
              "      <td>0.728919</td>\n",
              "      <td>0.718809</td>\n",
              "      <td>0.021388</td>\n",
              "      <td>0.675097</td>\n",
              "      <td>0.656312</td>\n",
              "      <td>0.013387</td>\n",
              "    </tr>\n",
              "    <tr>\n",
              "      <th>2</th>\n",
              "      <td>0.890555</td>\n",
              "      <td>0.917245</td>\n",
              "      <td>0.909245</td>\n",
              "      <td>0.909860</td>\n",
              "      <td>0.948941</td>\n",
              "      <td>0.944676</td>\n",
              "      <td>0.925683</td>\n",
              "      <td>0.980147</td>\n",
              "      <td>0.980362</td>\n",
              "      <td>0.749868</td>\n",
              "      <td>...</td>\n",
              "      <td>0.947478</td>\n",
              "      <td>0.774726</td>\n",
              "      <td>0.836644</td>\n",
              "      <td>0.941021</td>\n",
              "      <td>0.761761</td>\n",
              "      <td>0.824506</td>\n",
              "      <td>0.923488</td>\n",
              "      <td>0.784133</td>\n",
              "      <td>0.846879</td>\n",
              "      <td>0.942937</td>\n",
              "    </tr>\n",
              "    <tr>\n",
              "      <th>3</th>\n",
              "      <td>0.258697</td>\n",
              "      <td>0.202976</td>\n",
              "      <td>0.211065</td>\n",
              "      <td>0.224392</td>\n",
              "      <td>0.171795</td>\n",
              "      <td>0.183491</td>\n",
              "      <td>0.200546</td>\n",
              "      <td>0.154476</td>\n",
              "      <td>0.171791</td>\n",
              "      <td>0.216943</td>\n",
              "      <td>...</td>\n",
              "      <td>0.231418</td>\n",
              "      <td>0.141433</td>\n",
              "      <td>0.087680</td>\n",
              "      <td>0.141854</td>\n",
              "      <td>0.313445</td>\n",
              "      <td>0.264257</td>\n",
              "      <td>0.285725</td>\n",
              "      <td>0.778475</td>\n",
              "      <td>0.734729</td>\n",
              "      <td>0.725754</td>\n",
              "    </tr>\n",
              "    <tr>\n",
              "      <th>4</th>\n",
              "      <td>0.102460</td>\n",
              "      <td>0.102460</td>\n",
              "      <td>0.102460</td>\n",
              "      <td>0.109354</td>\n",
              "      <td>0.109354</td>\n",
              "      <td>0.109354</td>\n",
              "      <td>0.106019</td>\n",
              "      <td>0.106019</td>\n",
              "      <td>0.106019</td>\n",
              "      <td>0.113694</td>\n",
              "      <td>...</td>\n",
              "      <td>0.211287</td>\n",
              "      <td>0.318348</td>\n",
              "      <td>0.331493</td>\n",
              "      <td>0.318138</td>\n",
              "      <td>0.265920</td>\n",
              "      <td>0.293626</td>\n",
              "      <td>0.276704</td>\n",
              "      <td>0.363970</td>\n",
              "      <td>0.375376</td>\n",
              "      <td>0.367386</td>\n",
              "    </tr>\n",
              "    <tr>\n",
              "      <th>...</th>\n",
              "      <td>...</td>\n",
              "      <td>...</td>\n",
              "      <td>...</td>\n",
              "      <td>...</td>\n",
              "      <td>...</td>\n",
              "      <td>...</td>\n",
              "      <td>...</td>\n",
              "      <td>...</td>\n",
              "      <td>...</td>\n",
              "      <td>...</td>\n",
              "      <td>...</td>\n",
              "      <td>...</td>\n",
              "      <td>...</td>\n",
              "      <td>...</td>\n",
              "      <td>...</td>\n",
              "      <td>...</td>\n",
              "      <td>...</td>\n",
              "      <td>...</td>\n",
              "      <td>...</td>\n",
              "      <td>...</td>\n",
              "      <td>...</td>\n",
              "    </tr>\n",
              "    <tr>\n",
              "      <th>121</th>\n",
              "      <td>0.540430</td>\n",
              "      <td>0.592002</td>\n",
              "      <td>0.587192</td>\n",
              "      <td>0.536907</td>\n",
              "      <td>0.582837</td>\n",
              "      <td>0.564881</td>\n",
              "      <td>0.473051</td>\n",
              "      <td>0.511448</td>\n",
              "      <td>0.474642</td>\n",
              "      <td>0.414647</td>\n",
              "      <td>...</td>\n",
              "      <td>0.187970</td>\n",
              "      <td>0.070573</td>\n",
              "      <td>0.083511</td>\n",
              "      <td>0.048696</td>\n",
              "      <td>0.227812</td>\n",
              "      <td>0.231461</td>\n",
              "      <td>0.175383</td>\n",
              "      <td>0.065175</td>\n",
              "      <td>0.065175</td>\n",
              "      <td>0.027635</td>\n",
              "    </tr>\n",
              "    <tr>\n",
              "      <th>122</th>\n",
              "      <td>0.525404</td>\n",
              "      <td>0.515404</td>\n",
              "      <td>0.385404</td>\n",
              "      <td>0.541982</td>\n",
              "      <td>0.531982</td>\n",
              "      <td>0.401980</td>\n",
              "      <td>0.549706</td>\n",
              "      <td>0.539706</td>\n",
              "      <td>0.408779</td>\n",
              "      <td>0.541766</td>\n",
              "      <td>...</td>\n",
              "      <td>0.327961</td>\n",
              "      <td>0.547997</td>\n",
              "      <td>0.553535</td>\n",
              "      <td>0.311182</td>\n",
              "      <td>0.547216</td>\n",
              "      <td>0.562070</td>\n",
              "      <td>0.275076</td>\n",
              "      <td>0.673287</td>\n",
              "      <td>0.665615</td>\n",
              "      <td>0.441600</td>\n",
              "    </tr>\n",
              "    <tr>\n",
              "      <th>123</th>\n",
              "      <td>0.180388</td>\n",
              "      <td>0.305878</td>\n",
              "      <td>0.211760</td>\n",
              "      <td>0.179468</td>\n",
              "      <td>0.304958</td>\n",
              "      <td>0.210840</td>\n",
              "      <td>0.176474</td>\n",
              "      <td>0.301964</td>\n",
              "      <td>0.207846</td>\n",
              "      <td>0.174089</td>\n",
              "      <td>...</td>\n",
              "      <td>0.170797</td>\n",
              "      <td>0.407024</td>\n",
              "      <td>0.567886</td>\n",
              "      <td>0.167792</td>\n",
              "      <td>0.393432</td>\n",
              "      <td>0.571711</td>\n",
              "      <td>0.150718</td>\n",
              "      <td>0.392157</td>\n",
              "      <td>0.572549</td>\n",
              "      <td>0.149020</td>\n",
              "    </tr>\n",
              "    <tr>\n",
              "      <th>124</th>\n",
              "      <td>0.265494</td>\n",
              "      <td>0.194915</td>\n",
              "      <td>0.165522</td>\n",
              "      <td>0.289091</td>\n",
              "      <td>0.236930</td>\n",
              "      <td>0.201553</td>\n",
              "      <td>0.297122</td>\n",
              "      <td>0.270173</td>\n",
              "      <td>0.230698</td>\n",
              "      <td>0.270863</td>\n",
              "      <td>...</td>\n",
              "      <td>0.152773</td>\n",
              "      <td>0.311343</td>\n",
              "      <td>0.311343</td>\n",
              "      <td>0.115264</td>\n",
              "      <td>0.383767</td>\n",
              "      <td>0.383767</td>\n",
              "      <td>0.187688</td>\n",
              "      <td>0.405936</td>\n",
              "      <td>0.405936</td>\n",
              "      <td>0.209857</td>\n",
              "    </tr>\n",
              "    <tr>\n",
              "      <th>125</th>\n",
              "      <td>1.000000</td>\n",
              "      <td>1.000000</td>\n",
              "      <td>1.000000</td>\n",
              "      <td>1.000000</td>\n",
              "      <td>1.000000</td>\n",
              "      <td>1.000000</td>\n",
              "      <td>1.000000</td>\n",
              "      <td>1.000000</td>\n",
              "      <td>1.000000</td>\n",
              "      <td>1.000000</td>\n",
              "      <td>...</td>\n",
              "      <td>1.000000</td>\n",
              "      <td>1.000000</td>\n",
              "      <td>1.000000</td>\n",
              "      <td>1.000000</td>\n",
              "      <td>1.000000</td>\n",
              "      <td>1.000000</td>\n",
              "      <td>1.000000</td>\n",
              "      <td>1.000000</td>\n",
              "      <td>1.000000</td>\n",
              "      <td>1.000000</td>\n",
              "    </tr>\n",
              "  </tbody>\n",
              "</table>\n",
              "<p>126 rows × 67500 columns</p>\n",
              "</div>\n",
              "      <button class=\"colab-df-convert\" onclick=\"convertToInteractive('df-fc6b38a7-dee3-4dc8-95f2-b8fed2f2766a')\"\n",
              "              title=\"Convert this dataframe to an interactive table.\"\n",
              "              style=\"display:none;\">\n",
              "        \n",
              "  <svg xmlns=\"http://www.w3.org/2000/svg\" height=\"24px\"viewBox=\"0 0 24 24\"\n",
              "       width=\"24px\">\n",
              "    <path d=\"M0 0h24v24H0V0z\" fill=\"none\"/>\n",
              "    <path d=\"M18.56 5.44l.94 2.06.94-2.06 2.06-.94-2.06-.94-.94-2.06-.94 2.06-2.06.94zm-11 1L8.5 8.5l.94-2.06 2.06-.94-2.06-.94L8.5 2.5l-.94 2.06-2.06.94zm10 10l.94 2.06.94-2.06 2.06-.94-2.06-.94-.94-2.06-.94 2.06-2.06.94z\"/><path d=\"M17.41 7.96l-1.37-1.37c-.4-.4-.92-.59-1.43-.59-.52 0-1.04.2-1.43.59L10.3 9.45l-7.72 7.72c-.78.78-.78 2.05 0 2.83L4 21.41c.39.39.9.59 1.41.59.51 0 1.02-.2 1.41-.59l7.78-7.78 2.81-2.81c.8-.78.8-2.07 0-2.86zM5.41 20L4 18.59l7.72-7.72 1.47 1.35L5.41 20z\"/>\n",
              "  </svg>\n",
              "      </button>\n",
              "      \n",
              "  <style>\n",
              "    .colab-df-container {\n",
              "      display:flex;\n",
              "      flex-wrap:wrap;\n",
              "      gap: 12px;\n",
              "    }\n",
              "\n",
              "    .colab-df-convert {\n",
              "      background-color: #E8F0FE;\n",
              "      border: none;\n",
              "      border-radius: 50%;\n",
              "      cursor: pointer;\n",
              "      display: none;\n",
              "      fill: #1967D2;\n",
              "      height: 32px;\n",
              "      padding: 0 0 0 0;\n",
              "      width: 32px;\n",
              "    }\n",
              "\n",
              "    .colab-df-convert:hover {\n",
              "      background-color: #E2EBFA;\n",
              "      box-shadow: 0px 1px 2px rgba(60, 64, 67, 0.3), 0px 1px 3px 1px rgba(60, 64, 67, 0.15);\n",
              "      fill: #174EA6;\n",
              "    }\n",
              "\n",
              "    [theme=dark] .colab-df-convert {\n",
              "      background-color: #3B4455;\n",
              "      fill: #D2E3FC;\n",
              "    }\n",
              "\n",
              "    [theme=dark] .colab-df-convert:hover {\n",
              "      background-color: #434B5C;\n",
              "      box-shadow: 0px 1px 3px 1px rgba(0, 0, 0, 0.15);\n",
              "      filter: drop-shadow(0px 1px 2px rgba(0, 0, 0, 0.3));\n",
              "      fill: #FFFFFF;\n",
              "    }\n",
              "  </style>\n",
              "\n",
              "      <script>\n",
              "        const buttonEl =\n",
              "          document.querySelector('#df-fc6b38a7-dee3-4dc8-95f2-b8fed2f2766a button.colab-df-convert');\n",
              "        buttonEl.style.display =\n",
              "          google.colab.kernel.accessAllowed ? 'block' : 'none';\n",
              "\n",
              "        async function convertToInteractive(key) {\n",
              "          const element = document.querySelector('#df-fc6b38a7-dee3-4dc8-95f2-b8fed2f2766a');\n",
              "          const dataTable =\n",
              "            await google.colab.kernel.invokeFunction('convertToInteractive',\n",
              "                                                     [key], {});\n",
              "          if (!dataTable) return;\n",
              "\n",
              "          const docLinkHtml = 'Like what you see? Visit the ' +\n",
              "            '<a target=\"_blank\" href=https://colab.research.google.com/notebooks/data_table.ipynb>data table notebook</a>'\n",
              "            + ' to learn more about interactive tables.';\n",
              "          element.innerHTML = '';\n",
              "          dataTable['output_type'] = 'display_data';\n",
              "          await google.colab.output.renderOutput(dataTable, element);\n",
              "          const docLink = document.createElement('div');\n",
              "          docLink.innerHTML = docLinkHtml;\n",
              "          element.appendChild(docLink);\n",
              "        }\n",
              "      </script>\n",
              "    </div>\n",
              "  </div>\n",
              "  "
            ]
          },
          "metadata": {},
          "execution_count": 44
        }
      ]
    },
    {
      "cell_type": "code",
      "source": [
        "df['target']=target\n",
        "df"
      ],
      "metadata": {
        "colab": {
          "base_uri": "https://localhost:8080/",
          "height": 488
        },
        "id": "Urck31DOFmZe",
        "outputId": "81804583-3497-4a84-a59a-f50177fe6cca"
      },
      "execution_count": 45,
      "outputs": [
        {
          "output_type": "execute_result",
          "data": {
            "text/plain": [
              "            0         1         2         3         4         5         6  \\\n",
              "0    0.154919  0.174317  0.159262  0.158661  0.174557  0.174348  0.160470   \n",
              "1    0.112229  0.128222  0.163382  0.068747  0.084740  0.125080  0.088116   \n",
              "2    0.890555  0.917245  0.909245  0.909860  0.948941  0.944676  0.925683   \n",
              "3    0.258697  0.202976  0.211065  0.224392  0.171795  0.183491  0.200546   \n",
              "4    0.102460  0.102460  0.102460  0.109354  0.109354  0.109354  0.106019   \n",
              "..        ...       ...       ...       ...       ...       ...       ...   \n",
              "121  0.540430  0.592002  0.587192  0.536907  0.582837  0.564881  0.473051   \n",
              "122  0.525404  0.515404  0.385404  0.541982  0.531982  0.401980  0.549706   \n",
              "123  0.180388  0.305878  0.211760  0.179468  0.304958  0.210840  0.176474   \n",
              "124  0.265494  0.194915  0.165522  0.289091  0.236930  0.201553  0.297122   \n",
              "125  1.000000  1.000000  1.000000  1.000000  1.000000  1.000000  1.000000   \n",
              "\n",
              "            7         8         9  ...     67491     67492     67493  \\\n",
              "0    0.174195  0.189462  0.162110  ...  0.197318  0.138913  0.111461   \n",
              "1    0.103733  0.150911  0.149698  ...  0.756716  0.752803  0.014710   \n",
              "2    0.980147  0.980362  0.749868  ...  0.774726  0.836644  0.941021   \n",
              "3    0.154476  0.171791  0.216943  ...  0.141433  0.087680  0.141854   \n",
              "4    0.106019  0.106019  0.113694  ...  0.318348  0.331493  0.318138   \n",
              "..        ...       ...       ...  ...       ...       ...       ...   \n",
              "121  0.511448  0.474642  0.414647  ...  0.070573  0.083511  0.048696   \n",
              "122  0.539706  0.408779  0.541766  ...  0.547997  0.553535  0.311182   \n",
              "123  0.301964  0.207846  0.174089  ...  0.407024  0.567886  0.167792   \n",
              "124  0.270173  0.230698  0.270863  ...  0.311343  0.311343  0.115264   \n",
              "125  1.000000  1.000000  1.000000  ...  1.000000  1.000000  1.000000   \n",
              "\n",
              "        67494     67495     67496     67497     67498     67499  target  \n",
              "0    0.190055  0.138656  0.107701  0.180396  0.134622  0.101754       0  \n",
              "1    0.728919  0.718809  0.021388  0.675097  0.656312  0.013387       0  \n",
              "2    0.761761  0.824506  0.923488  0.784133  0.846879  0.942937       0  \n",
              "3    0.313445  0.264257  0.285725  0.778475  0.734729  0.725754       0  \n",
              "4    0.265920  0.293626  0.276704  0.363970  0.375376  0.367386       0  \n",
              "..        ...       ...       ...       ...       ...       ...     ...  \n",
              "121  0.227812  0.231461  0.175383  0.065175  0.065175  0.027635       1  \n",
              "122  0.547216  0.562070  0.275076  0.673287  0.665615  0.441600       1  \n",
              "123  0.393432  0.571711  0.150718  0.392157  0.572549  0.149020       1  \n",
              "124  0.383767  0.383767  0.187688  0.405936  0.405936  0.209857       1  \n",
              "125  1.000000  1.000000  1.000000  1.000000  1.000000  1.000000       1  \n",
              "\n",
              "[126 rows x 67501 columns]"
            ],
            "text/html": [
              "\n",
              "  <div id=\"df-dce2422b-ba25-4061-bfd2-7e64d4f0cc48\">\n",
              "    <div class=\"colab-df-container\">\n",
              "      <div>\n",
              "<style scoped>\n",
              "    .dataframe tbody tr th:only-of-type {\n",
              "        vertical-align: middle;\n",
              "    }\n",
              "\n",
              "    .dataframe tbody tr th {\n",
              "        vertical-align: top;\n",
              "    }\n",
              "\n",
              "    .dataframe thead th {\n",
              "        text-align: right;\n",
              "    }\n",
              "</style>\n",
              "<table border=\"1\" class=\"dataframe\">\n",
              "  <thead>\n",
              "    <tr style=\"text-align: right;\">\n",
              "      <th></th>\n",
              "      <th>0</th>\n",
              "      <th>1</th>\n",
              "      <th>2</th>\n",
              "      <th>3</th>\n",
              "      <th>4</th>\n",
              "      <th>5</th>\n",
              "      <th>6</th>\n",
              "      <th>7</th>\n",
              "      <th>8</th>\n",
              "      <th>9</th>\n",
              "      <th>...</th>\n",
              "      <th>67491</th>\n",
              "      <th>67492</th>\n",
              "      <th>67493</th>\n",
              "      <th>67494</th>\n",
              "      <th>67495</th>\n",
              "      <th>67496</th>\n",
              "      <th>67497</th>\n",
              "      <th>67498</th>\n",
              "      <th>67499</th>\n",
              "      <th>target</th>\n",
              "    </tr>\n",
              "  </thead>\n",
              "  <tbody>\n",
              "    <tr>\n",
              "      <th>0</th>\n",
              "      <td>0.154919</td>\n",
              "      <td>0.174317</td>\n",
              "      <td>0.159262</td>\n",
              "      <td>0.158661</td>\n",
              "      <td>0.174557</td>\n",
              "      <td>0.174348</td>\n",
              "      <td>0.160470</td>\n",
              "      <td>0.174195</td>\n",
              "      <td>0.189462</td>\n",
              "      <td>0.162110</td>\n",
              "      <td>...</td>\n",
              "      <td>0.197318</td>\n",
              "      <td>0.138913</td>\n",
              "      <td>0.111461</td>\n",
              "      <td>0.190055</td>\n",
              "      <td>0.138656</td>\n",
              "      <td>0.107701</td>\n",
              "      <td>0.180396</td>\n",
              "      <td>0.134622</td>\n",
              "      <td>0.101754</td>\n",
              "      <td>0</td>\n",
              "    </tr>\n",
              "    <tr>\n",
              "      <th>1</th>\n",
              "      <td>0.112229</td>\n",
              "      <td>0.128222</td>\n",
              "      <td>0.163382</td>\n",
              "      <td>0.068747</td>\n",
              "      <td>0.084740</td>\n",
              "      <td>0.125080</td>\n",
              "      <td>0.088116</td>\n",
              "      <td>0.103733</td>\n",
              "      <td>0.150911</td>\n",
              "      <td>0.149698</td>\n",
              "      <td>...</td>\n",
              "      <td>0.756716</td>\n",
              "      <td>0.752803</td>\n",
              "      <td>0.014710</td>\n",
              "      <td>0.728919</td>\n",
              "      <td>0.718809</td>\n",
              "      <td>0.021388</td>\n",
              "      <td>0.675097</td>\n",
              "      <td>0.656312</td>\n",
              "      <td>0.013387</td>\n",
              "      <td>0</td>\n",
              "    </tr>\n",
              "    <tr>\n",
              "      <th>2</th>\n",
              "      <td>0.890555</td>\n",
              "      <td>0.917245</td>\n",
              "      <td>0.909245</td>\n",
              "      <td>0.909860</td>\n",
              "      <td>0.948941</td>\n",
              "      <td>0.944676</td>\n",
              "      <td>0.925683</td>\n",
              "      <td>0.980147</td>\n",
              "      <td>0.980362</td>\n",
              "      <td>0.749868</td>\n",
              "      <td>...</td>\n",
              "      <td>0.774726</td>\n",
              "      <td>0.836644</td>\n",
              "      <td>0.941021</td>\n",
              "      <td>0.761761</td>\n",
              "      <td>0.824506</td>\n",
              "      <td>0.923488</td>\n",
              "      <td>0.784133</td>\n",
              "      <td>0.846879</td>\n",
              "      <td>0.942937</td>\n",
              "      <td>0</td>\n",
              "    </tr>\n",
              "    <tr>\n",
              "      <th>3</th>\n",
              "      <td>0.258697</td>\n",
              "      <td>0.202976</td>\n",
              "      <td>0.211065</td>\n",
              "      <td>0.224392</td>\n",
              "      <td>0.171795</td>\n",
              "      <td>0.183491</td>\n",
              "      <td>0.200546</td>\n",
              "      <td>0.154476</td>\n",
              "      <td>0.171791</td>\n",
              "      <td>0.216943</td>\n",
              "      <td>...</td>\n",
              "      <td>0.141433</td>\n",
              "      <td>0.087680</td>\n",
              "      <td>0.141854</td>\n",
              "      <td>0.313445</td>\n",
              "      <td>0.264257</td>\n",
              "      <td>0.285725</td>\n",
              "      <td>0.778475</td>\n",
              "      <td>0.734729</td>\n",
              "      <td>0.725754</td>\n",
              "      <td>0</td>\n",
              "    </tr>\n",
              "    <tr>\n",
              "      <th>4</th>\n",
              "      <td>0.102460</td>\n",
              "      <td>0.102460</td>\n",
              "      <td>0.102460</td>\n",
              "      <td>0.109354</td>\n",
              "      <td>0.109354</td>\n",
              "      <td>0.109354</td>\n",
              "      <td>0.106019</td>\n",
              "      <td>0.106019</td>\n",
              "      <td>0.106019</td>\n",
              "      <td>0.113694</td>\n",
              "      <td>...</td>\n",
              "      <td>0.318348</td>\n",
              "      <td>0.331493</td>\n",
              "      <td>0.318138</td>\n",
              "      <td>0.265920</td>\n",
              "      <td>0.293626</td>\n",
              "      <td>0.276704</td>\n",
              "      <td>0.363970</td>\n",
              "      <td>0.375376</td>\n",
              "      <td>0.367386</td>\n",
              "      <td>0</td>\n",
              "    </tr>\n",
              "    <tr>\n",
              "      <th>...</th>\n",
              "      <td>...</td>\n",
              "      <td>...</td>\n",
              "      <td>...</td>\n",
              "      <td>...</td>\n",
              "      <td>...</td>\n",
              "      <td>...</td>\n",
              "      <td>...</td>\n",
              "      <td>...</td>\n",
              "      <td>...</td>\n",
              "      <td>...</td>\n",
              "      <td>...</td>\n",
              "      <td>...</td>\n",
              "      <td>...</td>\n",
              "      <td>...</td>\n",
              "      <td>...</td>\n",
              "      <td>...</td>\n",
              "      <td>...</td>\n",
              "      <td>...</td>\n",
              "      <td>...</td>\n",
              "      <td>...</td>\n",
              "      <td>...</td>\n",
              "    </tr>\n",
              "    <tr>\n",
              "      <th>121</th>\n",
              "      <td>0.540430</td>\n",
              "      <td>0.592002</td>\n",
              "      <td>0.587192</td>\n",
              "      <td>0.536907</td>\n",
              "      <td>0.582837</td>\n",
              "      <td>0.564881</td>\n",
              "      <td>0.473051</td>\n",
              "      <td>0.511448</td>\n",
              "      <td>0.474642</td>\n",
              "      <td>0.414647</td>\n",
              "      <td>...</td>\n",
              "      <td>0.070573</td>\n",
              "      <td>0.083511</td>\n",
              "      <td>0.048696</td>\n",
              "      <td>0.227812</td>\n",
              "      <td>0.231461</td>\n",
              "      <td>0.175383</td>\n",
              "      <td>0.065175</td>\n",
              "      <td>0.065175</td>\n",
              "      <td>0.027635</td>\n",
              "      <td>1</td>\n",
              "    </tr>\n",
              "    <tr>\n",
              "      <th>122</th>\n",
              "      <td>0.525404</td>\n",
              "      <td>0.515404</td>\n",
              "      <td>0.385404</td>\n",
              "      <td>0.541982</td>\n",
              "      <td>0.531982</td>\n",
              "      <td>0.401980</td>\n",
              "      <td>0.549706</td>\n",
              "      <td>0.539706</td>\n",
              "      <td>0.408779</td>\n",
              "      <td>0.541766</td>\n",
              "      <td>...</td>\n",
              "      <td>0.547997</td>\n",
              "      <td>0.553535</td>\n",
              "      <td>0.311182</td>\n",
              "      <td>0.547216</td>\n",
              "      <td>0.562070</td>\n",
              "      <td>0.275076</td>\n",
              "      <td>0.673287</td>\n",
              "      <td>0.665615</td>\n",
              "      <td>0.441600</td>\n",
              "      <td>1</td>\n",
              "    </tr>\n",
              "    <tr>\n",
              "      <th>123</th>\n",
              "      <td>0.180388</td>\n",
              "      <td>0.305878</td>\n",
              "      <td>0.211760</td>\n",
              "      <td>0.179468</td>\n",
              "      <td>0.304958</td>\n",
              "      <td>0.210840</td>\n",
              "      <td>0.176474</td>\n",
              "      <td>0.301964</td>\n",
              "      <td>0.207846</td>\n",
              "      <td>0.174089</td>\n",
              "      <td>...</td>\n",
              "      <td>0.407024</td>\n",
              "      <td>0.567886</td>\n",
              "      <td>0.167792</td>\n",
              "      <td>0.393432</td>\n",
              "      <td>0.571711</td>\n",
              "      <td>0.150718</td>\n",
              "      <td>0.392157</td>\n",
              "      <td>0.572549</td>\n",
              "      <td>0.149020</td>\n",
              "      <td>1</td>\n",
              "    </tr>\n",
              "    <tr>\n",
              "      <th>124</th>\n",
              "      <td>0.265494</td>\n",
              "      <td>0.194915</td>\n",
              "      <td>0.165522</td>\n",
              "      <td>0.289091</td>\n",
              "      <td>0.236930</td>\n",
              "      <td>0.201553</td>\n",
              "      <td>0.297122</td>\n",
              "      <td>0.270173</td>\n",
              "      <td>0.230698</td>\n",
              "      <td>0.270863</td>\n",
              "      <td>...</td>\n",
              "      <td>0.311343</td>\n",
              "      <td>0.311343</td>\n",
              "      <td>0.115264</td>\n",
              "      <td>0.383767</td>\n",
              "      <td>0.383767</td>\n",
              "      <td>0.187688</td>\n",
              "      <td>0.405936</td>\n",
              "      <td>0.405936</td>\n",
              "      <td>0.209857</td>\n",
              "      <td>1</td>\n",
              "    </tr>\n",
              "    <tr>\n",
              "      <th>125</th>\n",
              "      <td>1.000000</td>\n",
              "      <td>1.000000</td>\n",
              "      <td>1.000000</td>\n",
              "      <td>1.000000</td>\n",
              "      <td>1.000000</td>\n",
              "      <td>1.000000</td>\n",
              "      <td>1.000000</td>\n",
              "      <td>1.000000</td>\n",
              "      <td>1.000000</td>\n",
              "      <td>1.000000</td>\n",
              "      <td>...</td>\n",
              "      <td>1.000000</td>\n",
              "      <td>1.000000</td>\n",
              "      <td>1.000000</td>\n",
              "      <td>1.000000</td>\n",
              "      <td>1.000000</td>\n",
              "      <td>1.000000</td>\n",
              "      <td>1.000000</td>\n",
              "      <td>1.000000</td>\n",
              "      <td>1.000000</td>\n",
              "      <td>1</td>\n",
              "    </tr>\n",
              "  </tbody>\n",
              "</table>\n",
              "<p>126 rows × 67501 columns</p>\n",
              "</div>\n",
              "      <button class=\"colab-df-convert\" onclick=\"convertToInteractive('df-dce2422b-ba25-4061-bfd2-7e64d4f0cc48')\"\n",
              "              title=\"Convert this dataframe to an interactive table.\"\n",
              "              style=\"display:none;\">\n",
              "        \n",
              "  <svg xmlns=\"http://www.w3.org/2000/svg\" height=\"24px\"viewBox=\"0 0 24 24\"\n",
              "       width=\"24px\">\n",
              "    <path d=\"M0 0h24v24H0V0z\" fill=\"none\"/>\n",
              "    <path d=\"M18.56 5.44l.94 2.06.94-2.06 2.06-.94-2.06-.94-.94-2.06-.94 2.06-2.06.94zm-11 1L8.5 8.5l.94-2.06 2.06-.94-2.06-.94L8.5 2.5l-.94 2.06-2.06.94zm10 10l.94 2.06.94-2.06 2.06-.94-2.06-.94-.94-2.06-.94 2.06-2.06.94z\"/><path d=\"M17.41 7.96l-1.37-1.37c-.4-.4-.92-.59-1.43-.59-.52 0-1.04.2-1.43.59L10.3 9.45l-7.72 7.72c-.78.78-.78 2.05 0 2.83L4 21.41c.39.39.9.59 1.41.59.51 0 1.02-.2 1.41-.59l7.78-7.78 2.81-2.81c.8-.78.8-2.07 0-2.86zM5.41 20L4 18.59l7.72-7.72 1.47 1.35L5.41 20z\"/>\n",
              "  </svg>\n",
              "      </button>\n",
              "      \n",
              "  <style>\n",
              "    .colab-df-container {\n",
              "      display:flex;\n",
              "      flex-wrap:wrap;\n",
              "      gap: 12px;\n",
              "    }\n",
              "\n",
              "    .colab-df-convert {\n",
              "      background-color: #E8F0FE;\n",
              "      border: none;\n",
              "      border-radius: 50%;\n",
              "      cursor: pointer;\n",
              "      display: none;\n",
              "      fill: #1967D2;\n",
              "      height: 32px;\n",
              "      padding: 0 0 0 0;\n",
              "      width: 32px;\n",
              "    }\n",
              "\n",
              "    .colab-df-convert:hover {\n",
              "      background-color: #E2EBFA;\n",
              "      box-shadow: 0px 1px 2px rgba(60, 64, 67, 0.3), 0px 1px 3px 1px rgba(60, 64, 67, 0.15);\n",
              "      fill: #174EA6;\n",
              "    }\n",
              "\n",
              "    [theme=dark] .colab-df-convert {\n",
              "      background-color: #3B4455;\n",
              "      fill: #D2E3FC;\n",
              "    }\n",
              "\n",
              "    [theme=dark] .colab-df-convert:hover {\n",
              "      background-color: #434B5C;\n",
              "      box-shadow: 0px 1px 3px 1px rgba(0, 0, 0, 0.15);\n",
              "      filter: drop-shadow(0px 1px 2px rgba(0, 0, 0, 0.3));\n",
              "      fill: #FFFFFF;\n",
              "    }\n",
              "  </style>\n",
              "\n",
              "      <script>\n",
              "        const buttonEl =\n",
              "          document.querySelector('#df-dce2422b-ba25-4061-bfd2-7e64d4f0cc48 button.colab-df-convert');\n",
              "        buttonEl.style.display =\n",
              "          google.colab.kernel.accessAllowed ? 'block' : 'none';\n",
              "\n",
              "        async function convertToInteractive(key) {\n",
              "          const element = document.querySelector('#df-dce2422b-ba25-4061-bfd2-7e64d4f0cc48');\n",
              "          const dataTable =\n",
              "            await google.colab.kernel.invokeFunction('convertToInteractive',\n",
              "                                                     [key], {});\n",
              "          if (!dataTable) return;\n",
              "\n",
              "          const docLinkHtml = 'Like what you see? Visit the ' +\n",
              "            '<a target=\"_blank\" href=https://colab.research.google.com/notebooks/data_table.ipynb>data table notebook</a>'\n",
              "            + ' to learn more about interactive tables.';\n",
              "          element.innerHTML = '';\n",
              "          dataTable['output_type'] = 'display_data';\n",
              "          await google.colab.output.renderOutput(dataTable, element);\n",
              "          const docLink = document.createElement('div');\n",
              "          docLink.innerHTML = docLinkHtml;\n",
              "          element.appendChild(docLink);\n",
              "        }\n",
              "      </script>\n",
              "    </div>\n",
              "  </div>\n",
              "  "
            ]
          },
          "metadata": {},
          "execution_count": 45
        }
      ]
    },
    {
      "cell_type": "code",
      "source": [
        "X=df.iloc[:,:-1]\n",
        "y=df.iloc[:,-1]"
      ],
      "metadata": {
        "id": "SuKJvvfkHGLV"
      },
      "execution_count": 46,
      "outputs": []
    },
    {
      "cell_type": "code",
      "source": [
        "X_train,X_test,y_train,y_test=train_test_split(X,y,test_size=0.3,random_state=1)\n"
      ],
      "metadata": {
        "id": "uKXVIQTfHQH2"
      },
      "execution_count": 47,
      "outputs": []
    },
    {
      "cell_type": "code",
      "source": [
        "sv=SVC(kernel='poly')\n",
        "sv.fit(X_train,y_train)\n",
        "y_pred=sv.predict(X_test)\n",
        "y_pred"
      ],
      "metadata": {
        "colab": {
          "base_uri": "https://localhost:8080/"
        },
        "id": "2L7evGkpHpcJ",
        "outputId": "ea91b40a-c337-43f5-ff1d-25db99893d27"
      },
      "execution_count": 48,
      "outputs": [
        {
          "output_type": "execute_result",
          "data": {
            "text/plain": [
              "array([0, 0, 1, 1, 1, 0, 0, 1, 1, 1, 1, 0, 1, 1, 0, 1, 1, 1, 1, 1, 1, 0,\n",
              "       1, 0, 0, 0, 0, 0, 0, 0, 0, 0, 1, 1, 0, 0, 0, 1])"
            ]
          },
          "metadata": {},
          "execution_count": 48
        }
      ]
    },
    {
      "cell_type": "code",
      "source": [
        "print(classification_report(y_test,y_pred))"
      ],
      "metadata": {
        "colab": {
          "base_uri": "https://localhost:8080/"
        },
        "id": "HFYR5yfDIB_W",
        "outputId": "54ea028a-bc26-4bc1-d357-ec11645f31df"
      },
      "execution_count": 49,
      "outputs": [
        {
          "output_type": "stream",
          "name": "stdout",
          "text": [
            "              precision    recall  f1-score   support\n",
            "\n",
            "           0       0.53      0.67      0.59        15\n",
            "           1       0.74      0.61      0.67        23\n",
            "\n",
            "    accuracy                           0.63        38\n",
            "   macro avg       0.63      0.64      0.63        38\n",
            "weighted avg       0.65      0.63      0.64        38\n",
            "\n"
          ]
        }
      ]
    },
    {
      "cell_type": "code",
      "source": [
        "print(ConfusionMatrixDisplay.from_predictions(y_test,y_pred))"
      ],
      "metadata": {
        "colab": {
          "base_uri": "https://localhost:8080/",
          "height": 472
        },
        "id": "TWGZ5x8OIUHu",
        "outputId": "afb4545d-6931-4c72-a0ac-d4f5e4b35848"
      },
      "execution_count": 50,
      "outputs": [
        {
          "output_type": "stream",
          "name": "stdout",
          "text": [
            "<sklearn.metrics._plot.confusion_matrix.ConfusionMatrixDisplay object at 0x7efcc33ec400>\n"
          ]
        },
        {
          "output_type": "display_data",
          "data": {
            "text/plain": [
              "<Figure size 640x480 with 2 Axes>"
            ],
            "image/png": "[encoded data removed]"
          },
          "metadata": {}
        }
      ]
    },
    {
      "cell_type": "code",
      "source": [
        "newc=imread('/content/drive/MyDrive/cat.jpg')\n",
        "plt.imshow(newc)\n",
        "plt.show()"
      ],
      "metadata": {
        "id": "vzYRljQGJPzn",
        "colab": {
          "base_uri": "https://localhost:8080/",
          "height": 434
        },
        "outputId": "b07bf01a-9d4c-491c-fece-6cdf1d281330"
      },
      "execution_count": 51,
      "outputs": [
        {
          "output_type": "display_data",
          "data": {
            "text/plain": [
              "<Figure size 640x480 with 1 Axes>"
            ],
            "image/png": "[encoded data removed]"
          },
          "metadata": {}
        }
      ]
    },
    {
      "cell_type": "code",
      "source": [
        "newc=resize(newc,(150,150,3))\n",
        "newimg=newc.flatten()\n",
        "newimg.shape"
      ],
      "metadata": {
        "colab": {
          "base_uri": "https://localhost:8080/"
        },
        "id": "VXg85TznL5Vn",
        "outputId": "c04add15-0153-46d1-9fc8-75eed8eb9abc"
      },
      "execution_count": 52,
      "outputs": [
        {
          "output_type": "execute_result",
          "data": {
            "text/plain": [
              "(67500,)"
            ]
          },
          "metadata": {},
          "execution_count": 52
        }
      ]
    },
    {
      "cell_type": "code",
      "source": [
        "newimg=newimg.reshape(1,-1)\n",
        "newimg.shape"
      ],
      "metadata": {
        "colab": {
          "base_uri": "https://localhost:8080/"
        },
        "id": "kjcMuwJpMZ4n",
        "outputId": "cab360da-fe08-427a-c278-786bbb21b427"
      },
      "execution_count": 53,
      "outputs": [
        {
          "output_type": "execute_result",
          "data": {
            "text/plain": [
              "(1, 67500)"
            ]
          },
          "metadata": {},
          "execution_count": 53
        }
      ]
    },
    {
      "cell_type": "code",
      "source": [
        "y=sv.predict(newimg)\n",
        "if y==0:\n",
        "  print('cat')\n",
        "else:\n",
        "  print('dog')"
      ],
      "metadata": {
        "colab": {
          "base_uri": "https://localhost:8080/"
        },
        "id": "O45iCdAiM4nq",
        "outputId": "fcb86cf6-ef15-4c64-cd46-fda845db22fc"
      },
      "execution_count": 54,
      "outputs": [
        {
          "output_type": "stream",
          "name": "stdout",
          "text": [
            "dog\n"
          ]
        }
      ]
    }
  ]
}